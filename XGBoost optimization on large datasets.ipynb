{
 "cells": [
  {
   "cell_type": "markdown",
   "metadata": {},
   "source": [
    "# Approximate Greedy Algorithm:"
   ]
  },
  {
   "cell_type": "markdown",
   "metadata": {},
   "source": [
    "let'e  start by talking about $Approximate$ $Greedy$ $Algorithm$."
   ]
  },
  {
   "cell_type": "markdown",
   "metadata": {},
   "source": [
    "$XGBoost$ $Tree$ for $Regression$ , we had a super simple $Training$ $Dataste$ and used.. "
   ]
  },
  {
   "cell_type": "code",
   "execution_count": 3,
   "metadata": {},
   "outputs": [],
   "source": [
    "## draw the datasets diagram from videos:"
   ]
  },
  {
   "cell_type": "code",
   "execution_count": null,
   "metadata": {},
   "outputs": [],
   "source": [
    "# we are also metion the decision baundry for making the first tree on the basis of the residuals:"
   ]
  },
  {
   "cell_type": "markdown",
   "metadata": {},
   "source": [
    "Different $Drug$ $Dosages$ to predict $Drug$ $Effectiveness$."
   ]
  },
  {
   "cell_type": "markdown",
   "metadata": {},
   "source": [
    "The first thing we did was make initial prediction, which could be any thing , like the mean $Drug$ $Effectiveness$, but by default is $0.5$."
   ]
  },
  {
   "cell_type": "markdown",
   "metadata": {},
   "source": [
    "Then we calculate the $Residuals$ , and fit a tree to the $Residuals$."
   ]
  },
  {
   "cell_type": "markdown",
   "metadata": {},
   "source": [
    "we did this by calculating the $Similarity$ $Scores$ and the $Gain$ for each possible threshold."
   ]
  },
  {
   "cell_type": "code",
   "execution_count": 2,
   "metadata": {},
   "outputs": [],
   "source": [
    "## draw a tree on the basis of the residuals:"
   ]
  },
  {
   "cell_type": "code",
   "execution_count": null,
   "metadata": {},
   "outputs": [],
   "source": []
  },
  {
   "cell_type": "markdown",
   "metadata": {},
   "source": [
    "And the threshold with the  largest $Gain$ is the one $XGBoost$ $uses$."
   ]
  },
  {
   "cell_type": "code",
   "execution_count": 5,
   "metadata": {},
   "outputs": [],
   "source": [
    "# this the final tree which are grow on the basis of the similarity scores:"
   ]
  },
  {
   "cell_type": "code",
   "execution_count": null,
   "metadata": {},
   "outputs": [],
   "source": []
  },
  {
   "cell_type": "markdown",
   "metadata": {},
   "source": [
    "$Note-:$  The decision to use the threshold that gives the  largest $Gain$ is made without warrying about how the leaves will split later... "
   ]
  },
  {
   "cell_type": "markdown",
   "metadata": {},
   "source": [
    "and that means $XGBoost$ uses a $Greedy$ $Algorithm$ to build trees."
   ]
  },
  {
   "cell_type": "markdown",
   "metadata": {},
   "source": [
    "In other words , since $XGBoost$ uses a $Greedy$ $Algorithm$ it makes a decision without looking  ahead to see if it is the absolute best choice in the long term.."
   ]
  },
  {
   "cell_type": "markdown",
   "metadata": {},
   "source": [
    "In contrast, if $XGBoost$ did not use a $Greedy$ $Algorithm$, it would postpone making a final decision about this threshold... "
   ]
  },
  {
   "cell_type": "code",
   "execution_count": 9,
   "metadata": {},
   "outputs": [],
   "source": [
    "## we are talking about the root node:"
   ]
  },
  {
   "cell_type": "markdown",
   "metadata": {},
   "source": [
    "until after trying different thresholds in the leaves to see how things played out in the long run.."
   ]
  },
  {
   "cell_type": "markdown",
   "metadata": {},
   "source": [
    "And this same process would be repeated for every single possible threshold for the root."
   ]
  },
  {
   "cell_type": "markdown",
   "metadata": {},
   "source": [
    "In other words , by using a $Greedy$ $Algorithm$ , $XGBoost$  can build a tree relatively quickly."
   ]
  },
  {
   "cell_type": "code",
   "execution_count": 10,
   "metadata": {},
   "outputs": [],
   "source": [
    "## plot a different data points "
   ]
  },
  {
   "cell_type": "code",
   "execution_count": 11,
   "metadata": {},
   "outputs": [],
   "source": [
    "## having more examples than the previous example"
   ]
  },
  {
   "cell_type": "markdown",
   "metadata": {},
   "source": [
    "That said , when we have  a lot of measurements, then the $Greedy$ $Algorithm$ becomes slow because it still has to look at every possible threshold..."
   ]
  },
  {
   "cell_type": "markdown",
   "metadata": {},
   "source": [
    "This is where the $Approximate$ $Greedy$ $Algorithm$ comes in..."
   ]
  },
  {
   "cell_type": "code",
   "execution_count": 15,
   "metadata": {},
   "outputs": [],
   "source": [
    "## plot the data which are having the larger observation:"
   ]
  },
  {
   "cell_type": "code",
   "execution_count": 19,
   "metadata": {},
   "outputs": [],
   "source": [
    "# plot"
   ]
  },
  {
   "cell_type": "markdown",
   "metadata": {},
   "source": [
    "Going back to our example with a lot of observations, instead of testing every single threshold , we could divide the data into $Quantiles$.."
   ]
  },
  {
   "cell_type": "markdown",
   "metadata": {},
   "source": [
    "and only use the $Quantiles$ as condidate thresholds to split the observations."
   ]
  },
  {
   "cell_type": "code",
   "execution_count": 21,
   "metadata": {},
   "outputs": [],
   "source": [
    "## we exaplain the $Quantiles$ in detailed in other $Jupyter-Note-Book$:"
   ]
  },
  {
   "cell_type": "markdown",
   "metadata": {},
   "source": [
    "For example , instead of using the smallest two $Dosage$ to define the first threshold.."
   ]
  },
  {
   "cell_type": "markdown",
   "metadata": {},
   "source": [
    "the $Approximate$ $Greedy$ $Algorithm$ uses the first $Quantile$  to define the first threshold."
   ]
  },
  {
   "cell_type": "markdown",
   "metadata": {},
   "source": [
    "And the second $Quantiles$ is the second threshold that we will consider.......etc...etc..etc..."
   ]
  },
  {
   "cell_type": "markdown",
   "metadata": {},
   "source": [
    "$Note-:$ if we only used one $Quantile$ and it split the observation in half. then, since there are no other options that $Quantile$ would be the threshold."
   ]
  },
  {
   "cell_type": "markdown",
   "metadata": {},
   "source": [
    "This would make finding the $Best$ threshold very fast since we would not have to calculate $Gain$ and $Similarity$ $Score$ to make the decision.."
   ]
  },
  {
   "cell_type": "code",
   "execution_count": 25,
   "metadata": {},
   "outputs": [],
   "source": [
    "## draw the data which are dividing the data into two half ....positive and negative - half.."
   ]
  },
  {
   "cell_type": "markdown",
   "metadata": {},
   "source": [
    "But since both sides of the threshold represent a lot of people who have positive $Drug$ $Effectiveness$ values , and negative $Drug$ $Effectiveness$ values.."
   ]
  },
  {
   "cell_type": "markdown",
   "metadata": {},
   "source": [
    "Then this threshold would not do a good job predicting $Drug$ $Effectiveness$."
   ]
  },
  {
   "cell_type": "code",
   "execution_count": 26,
   "metadata": {},
   "outputs": [],
   "source": [
    "## draw the data point which are containg the two quantiles on the given observation:"
   ]
  },
  {
   "cell_type": "markdown",
   "metadata": {},
   "source": [
    "In contrast,if we had two $Qunatiles$,then  our prediction would improve because we would do a better job seperating observation with positive values for $Drug$ $Effectiveness$, from observation with negative values for $Drug$ $Effectiveness$."
   ]
  },
  {
   "cell_type": "markdown",
   "metadata": {},
   "source": [
    "so for this data , two $Quantiles$ are better than one."
   ]
  },
  {
   "cell_type": "code",
   "execution_count": 29,
   "metadata": {},
   "outputs": [],
   "source": [
    "## plot the data points as an examples which are containing the $5$ quantiles:"
   ]
  },
  {
   "cell_type": "markdown",
   "metadata": {},
   "source": [
    "If we had $5$ $Quantiles$, then our prediction would be more accurate since each threshold represents a smaller cluster of observations."
   ]
  },
  {
   "cell_type": "markdown",
   "metadata": {},
   "source": [
    "However , the more $Qunatiles$ we have , the more thresholds we will have to test and that means it will take longer to build the tree."
   ]
  },
  {
   "cell_type": "markdown",
   "metadata": {},
   "source": [
    "For $XGBoost$ , the $Approximate$ $Greedy$ $Algorithm$ means that instead of testing all possible threshold we only test the $Quantiles$."
   ]
  },
  {
   "cell_type": "markdown",
   "metadata": {},
   "source": [
    "By Default , the $Approximate$ $Greedy$ $Algorithm$ uses about $33$ $Quantiles$. "
   ]
  },
  {
   "cell_type": "markdown",
   "metadata": {},
   "source": [
    "Now  the $Question$ is , why do we say $About$ $33$ $Quantiles$ instead of $Exactly$ $33$ $Quantiles$...?"
   ]
  },
  {
   "cell_type": "markdown",
   "metadata": {},
   "source": [
    "To answer that question we need to talk about $Parallel$ $Learning$ and $Weighted$ $Quantiles$ $Sketch$ "
   ]
  },
  {
   "cell_type": "markdown",
   "metadata": {},
   "source": []
  }
 ],
 "metadata": {
  "kernelspec": {
   "display_name": "Python 3",
   "language": "python",
   "name": "python3"
  },
  "language_info": {
   "codemirror_mode": {
    "name": "ipython",
    "version": 3
   },
   "file_extension": ".py",
   "mimetype": "text/x-python",
   "name": "python",
   "nbconvert_exporter": "python",
   "pygments_lexer": "ipython3",
   "version": "3.7.3"
  }
 },
 "nbformat": 4,
 "nbformat_minor": 2
}
