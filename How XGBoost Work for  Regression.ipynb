{
 "cells": [
  {
   "cell_type": "markdown",
   "metadata": {},
   "source": [
    "# Working of XGBoost For Regression"
   ]
  },
  {
   "cell_type": "markdown",
   "metadata": {},
   "source": [
    "However to keep the eaxamples from getting out of hand we will use this super simple $Training$ $Data$."
   ]
  },
  {
   "cell_type": "markdown",
   "metadata": {},
   "source": [
    "On the $x-axis$ we have different $Drug$ $Dosages$"
   ]
  },
  {
   "cell_type": "markdown",
   "metadata": {},
   "source": [
    "and on the $y-axis$ we measured $Drug$ $Effectiveness$"
   ]
  },
  {
   "cell_type": "code",
   "execution_count": null,
   "metadata": {},
   "outputs": [],
   "source": [
    "# data showing for representation ..."
   ]
  },
  {
   "cell_type": "code",
   "execution_count": null,
   "metadata": {},
   "outputs": [],
   "source": []
  },
  {
   "cell_type": "markdown",
   "metadata": {},
   "source": [
    "these two observation have relatively large postive values for $Drug$ $Effectiveness$ that means that the drug was helpful."
   ]
  },
  {
   "cell_type": "markdown",
   "metadata": {},
   "source": [
    "these two observation have relatively large negative values for $Drug$ $Effectiveness$,and that means that the drug did more harm than good."
   ]
  },
  {
   "cell_type": "markdown",
   "metadata": {},
   "source": [
    "the very first step in fitting $XGBoost$ to the $Training$ $Data$ is to make an initial prediction."
   ]
  },
  {
   "cell_type": "markdown",
   "metadata": {},
   "source": [
    "This prediction can be anything but by default it is $0.5$,regardless of whether you are using $XGBoost$ for $Regression$\n",
    "or $Classification$."
   ]
  },
  {
   "cell_type": "code",
   "execution_count": 4,
   "metadata": {},
   "outputs": [],
   "source": [
    "# data showing for representation ..."
   ]
  },
  {
   "cell_type": "code",
   "execution_count": null,
   "metadata": {},
   "outputs": [],
   "source": []
  },
  {
   "cell_type": "markdown",
   "metadata": {},
   "source": [
    "and the $Residual$ the difference between the $observed$ and $predicted$ values , show as how good the initial prediction is."
   ]
  },
  {
   "cell_type": "code",
   "execution_count": 5,
   "metadata": {},
   "outputs": [],
   "source": [
    "# making the decision tree on the basis of above given data."
   ]
  },
  {
   "cell_type": "markdown",
   "metadata": {},
   "source": []
  },
  {
   "cell_type": "markdown",
   "metadata": {},
   "source": [
    "Now just like unextreme $Gradient$ $Boost$ , $XGBoost$ fits a $Regression$ tree to the $Residuals$."
   ]
  },
  {
   "cell_type": "markdown",
   "metadata": {},
   "source": [
    "however unlike unextreme $Gradient$ $Boost$ ,which typically uses regular of-the-self,$Regression$."
   ]
  },
  {
   "cell_type": "markdown",
   "metadata": {},
   "source": [
    "$XGBoost$ uses unique $Regression$ $Tree$ that I call an $XGBoost$ $Tree$."
   ]
  },
  {
   "cell_type": "markdown",
   "metadata": {},
   "source": [
    "# Let's talk about how to build an XGBoost Tree for Regression."
   ]
  },
  {
   "cell_type": "markdown",
   "metadata": {},
   "source": [
    "$Note$- There are many ways to build $XGBoost$  $Tree$, we are focuses on the most common way to build them for $Regression$."
   ]
  },
  {
   "cell_type": "markdown",
   "metadata": {},
   "source": [
    "Each tree starts out as a single leaf."
   ]
  },
  {
   "cell_type": "markdown",
   "metadata": {},
   "source": [
    "and all the $Residuals$ go to the leaf."
   ]
  },
  {
   "cell_type": "markdown",
   "metadata": {},
   "source": [
    "now we calculate a $Quality$ $Score$ or $Similarity$ $Score$ for $Residuals$."
   ]
  },
  {
   "cell_type": "markdown",
   "metadata": {},
   "source": [
    "\\begin{equation}\n",
    "SimilarityScore = \\frac{sum of residuals,squared}{no of residual + {\\lambda}}\n",
    "\\end{equation}"
   ]
  },
  {
   "cell_type": "markdown",
   "metadata": {},
   "source": [
    "$Note$- ${\\lambda}$ is a $Regularized$ parameters."
   ]
  },
  {
   "cell_type": "markdown",
   "metadata": {},
   "source": [
    "for now ${\\lambda}$ = $0$."
   ]
  },
  {
   "cell_type": "markdown",
   "metadata": {},
   "source": [
    "in this example we have $4$ $residual$ so we pulg into the above the formula."
   ]
  },
  {
   "cell_type": "markdown",
   "metadata": {},
   "source": [
    "\\begin{equation}\n",
    "similarity score = \\frac{(-10.5+ 6.5+7.5-7.5)^{2}}{4 + 0}\n",
    "\\end{equation}"
   ]
  },
  {
   "cell_type": "markdown",
   "metadata": {},
   "source": [
    "\\begin{equation}\n",
    "similarity score = \\frac{(-10.5+ 6.5)^{2}}{4 + 0}\n",
    "\\end{equation}"
   ]
  },
  {
   "cell_type": "markdown",
   "metadata": {},
   "source": [
    "\\begin{equation}\n",
    "similarity score = \\frac{(-4)^{2}}{4 + 0}\n",
    "\\end{equation}"
   ]
  },
  {
   "cell_type": "markdown",
   "metadata": {},
   "source": [
    "\\begin{equation}\n",
    "similarity score = 4\n",
    "\\end{equation}"
   ]
  },
  {
   "cell_type": "markdown",
   "metadata": {},
   "source": [
    "thus the $Simiarity$ $Score$ for the $residual$ in the root = $4$."
   ]
  },
  {
   "cell_type": "markdown",
   "metadata": {},
   "source": [
    "Now the question is whether or not we can do a better job clustering similar $Residuals$ if we split them into two group."
   ]
  },
  {
   "cell_type": "markdown",
   "metadata": {},
   "source": [
    "$To$ $answer$ $this$."
   ]
  },
  {
   "cell_type": "markdown",
   "metadata": {},
   "source": [
    "we first focuse on the two observation with the lowest $Dosages$."
   ]
  },
  {
   "cell_type": "markdown",
   "metadata": {},
   "source": [
    "their average Dosages is $15$ and that corresponds to this dotted red line."
   ]
  },
  {
   "cell_type": "code",
   "execution_count": 18,
   "metadata": {},
   "outputs": [],
   "source": [
    "# showin the data corresponding this line."
   ]
  },
  {
   "cell_type": "code",
   "execution_count": null,
   "metadata": {},
   "outputs": [],
   "source": []
  },
  {
   "cell_type": "markdown",
   "metadata": {},
   "source": [
    "so we split the observation into two groups based on whether or not the $Dosages$ < $15$."
   ]
  },
  {
   "cell_type": "markdown",
   "metadata": {},
   "source": [
    "the observation on the far left is the only one with $Dosages$ < $15$."
   ]
  },
  {
   "cell_type": "markdown",
   "metadata": {},
   "source": [
    "so its $residual$ goes to the leaf on the left."
   ]
  },
  {
   "cell_type": "markdown",
   "metadata": {},
   "source": [
    "and all of the $residuals$ goes to the leaf on the right."
   ]
  },
  {
   "cell_type": "markdown",
   "metadata": {},
   "source": [
    "now we calculate the $Similarity$ $Score$ for the leaf on the left."
   ]
  },
  {
   "cell_type": "markdown",
   "metadata": {},
   "source": [
    "\\begin{equation}\n",
    "similarity score = \\frac{(-10.5)^{2}}{1 + 0}\n",
    "\\end{equation}"
   ]
  },
  {
   "cell_type": "markdown",
   "metadata": {},
   "source": [
    "and the $Similarity$ $Score$ for the leaf on the left is $110.25$."
   ]
  },
  {
   "cell_type": "markdown",
   "metadata": {},
   "source": [
    "and calculate the $Similarity$ $Score$ for the leaf on the right."
   ]
  },
  {
   "cell_type": "markdown",
   "metadata": {},
   "source": [
    "\\begin{equation}\n",
    "similarity score = \\frac{(6.5+7.5-7.5)^{2}}{3 + 0}\n",
    "\\end{equation}"
   ]
  },
  {
   "cell_type": "markdown",
   "metadata": {},
   "source": [
    "\\begin{equation}\n",
    "similarity score = \\frac{( 6.5)^{2}}{3 + 0}\n",
    "\\end{equation}"
   ]
  },
  {
   "cell_type": "markdown",
   "metadata": {},
   "source": [
    "thus the $Similarity$ $Score$ for the $residuals$ in the leaf on the right is $14.08$."
   ]
  },
  {
   "cell_type": "markdown",
   "metadata": {},
   "source": [
    "Now that we have calculated the $Similarity$ $Score$ for each node."
   ]
  },
  {
   "cell_type": "markdown",
   "metadata": {},
   "source": [
    "we see that when the $residuals$ in a node are very different , they cancel each other out and the $Similarity$ $Score$ is small."
   ]
  },
  {
   "cell_type": "markdown",
   "metadata": {},
   "source": [
    "when the $residuals$ are similar or there is just one of them they do not cancel out and the $Similarity$ $Score$ is relatively large."
   ]
  },
  {
   "cell_type": "markdown",
   "metadata": {},
   "source": [
    "Now we need to quantify how much better the leaves cluster similar $Residuals$ than the root."
   ]
  },
  {
   "cell_type": "markdown",
   "metadata": {},
   "source": [
    "we do this by calculating the $Gain$ of  splitting the $Residuals$ into two $groups$."
   ]
  },
  {
   "cell_type": "markdown",
   "metadata": {},
   "source": [
    "\\begin{equation}\n",
    "Gain = Left_{similarity} + Right_{similarity} - Root_{similarity}\n",
    "\\end{equation}"
   ]
  },
  {
   "cell_type": "markdown",
   "metadata": {},
   "source": [
    "plug the $Similarity$ $Score$ for the leaf on the left and leaf on the right and also the $ Similarity$ $score$ of the root."
   ]
  },
  {
   "cell_type": "markdown",
   "metadata": {},
   "source": [
    "let's calculate the Gain value for this above tree."
   ]
  },
  {
   "cell_type": "markdown",
   "metadata": {},
   "source": [
    "\\begin{equation}\n",
    "Gain = 110.25 + 14.08 - 4\n",
    "\\end{equation}"
   ]
  },
  {
   "cell_type": "markdown",
   "metadata": {},
   "source": [
    "\\begin{equation}\n",
    "Gain = 120.33\n",
    "\\end{equation}"
   ]
  },
  {
   "cell_type": "markdown",
   "metadata": {},
   "source": [
    "Now that we have claculated the $Gain$ for the threshold $Dosages$ < 15 , we can compare it to the $Gain$ calculated for other thresholds"
   ]
  },
  {
   "cell_type": "markdown",
   "metadata": {},
   "source": [
    "So we shift the threshold over so that it is the average of the next two observation."
   ]
  },
  {
   "cell_type": "code",
   "execution_count": null,
   "metadata": {},
   "outputs": [],
   "source": []
  },
  {
   "cell_type": "code",
   "execution_count": 22,
   "metadata": {},
   "outputs": [],
   "source": [
    "# showing the diagram of the representaion."
   ]
  },
  {
   "cell_type": "code",
   "execution_count": null,
   "metadata": {},
   "outputs": [],
   "source": []
  },
  {
   "cell_type": "markdown",
   "metadata": {},
   "source": [
    "and build a simple tree that divides the observation using the new threshold $Dosage$ < $22.5$."
   ]
  },
  {
   "cell_type": "code",
   "execution_count": 23,
   "metadata": {},
   "outputs": [],
   "source": [
    "# draw the tree on the basis of these threshold."
   ]
  },
  {
   "cell_type": "code",
   "execution_count": null,
   "metadata": {},
   "outputs": [],
   "source": []
  },
  {
   "cell_type": "markdown",
   "metadata": {},
   "source": [
    "now we calculate the $Similarity $ $Score $ for the leaves.."
   ]
  },
  {
   "cell_type": "markdown",
   "metadata": {},
   "source": [
    "$Similarity$ $Score $ for the leaf on the left is."
   ]
  },
  {
   "cell_type": "markdown",
   "metadata": {},
   "source": [
    "\\begin{equation}\n",
    "similarity score = \\frac{(-10.5+6.5)^2}{2+ 0}\n",
    "\\end{equation}"
   ]
  },
  {
   "cell_type": "markdown",
   "metadata": {},
   "source": [
    "\\begin{equation}\n",
    "similarity score = \\frac{(-4)^2}{2+ 0}\n",
    "\\end{equation}"
   ]
  },
  {
   "cell_type": "markdown",
   "metadata": {},
   "source": [
    "\\begin{equation}\n",
    "similarity score = 8\n",
    "\\end{equation}"
   ]
  },
  {
   "cell_type": "markdown",
   "metadata": {},
   "source": [
    "$Similarity$ $Score $ for the leaf on the left is."
   ]
  },
  {
   "cell_type": "markdown",
   "metadata": {},
   "source": [
    "\\begin{equation}\n",
    "similarity score = \\frac{(-7.5 + 7.5)^2}{2 + 0}\n",
    "\\end{equation}"
   ]
  },
  {
   "cell_type": "markdown",
   "metadata": {},
   "source": [
    "\\begin{equation}\n",
    "similarity score = \\frac{(0)^2}{2 + 0}\n",
    "\\end{equation}"
   ]
  },
  {
   "cell_type": "markdown",
   "metadata": {},
   "source": [
    "\\begin{equation}\n",
    "similarity score = 0\n",
    "\\end{equation}"
   ]
  },
  {
   "cell_type": "markdown",
   "metadata": {},
   "source": [
    "and calculate the $Gain$.."
   ]
  },
  {
   "cell_type": "markdown",
   "metadata": {},
   "source": [
    "\\begin{equation}\n",
    "Gain = Left_{similarity} + Right_{similarity} - Root_{similarity}\n",
    "\\end{equation}"
   ]
  },
  {
   "cell_type": "markdown",
   "metadata": {},
   "source": [
    "\\begin{equation}\n",
    "Gain = 8 + 0 - 4\n",
    "\\end{equation}"
   ]
  },
  {
   "cell_type": "markdown",
   "metadata": {},
   "source": [
    "\\begin{equation}\n",
    "Gain = 4\n",
    "\\end{equation}"
   ]
  },
  {
   "cell_type": "markdown",
   "metadata": {},
   "source": [
    "The $Gain$ for $Dosage$ < $22.5$ is $4$."
   ]
  },
  {
   "cell_type": "markdown",
   "metadata": {},
   "source": [
    "since the $Gain$ for $Dosage$ < $22.5$ $Gain = 4$ is less than the $Gain$ for $Dosage$ < $15$. $Gain = 120.33$.\n",
    "$Dosage$ < 15 is better at splitting the $Residuals$ into clusters of similar values."
   ]
  },
  {
   "cell_type": "code",
   "execution_count": null,
   "metadata": {},
   "outputs": [],
   "source": []
  },
  {
   "cell_type": "markdown",
   "metadata": {},
   "source": [
    "Now we shift the threshold over so that it is the average of last two observations."
   ]
  },
  {
   "cell_type": "markdown",
   "metadata": {},
   "source": [
    "and build a simple tree that divides that observations using the new threshold $Dosage$ < 30."
   ]
  },
  {
   "cell_type": "markdown",
   "metadata": {},
   "source": [
    "then we calculate the $Similarity$ $Score$ for the leaves....."
   ]
  },
  {
   "cell_type": "markdown",
   "metadata": {},
   "source": [
    "$Similarity$ $Score$ for the leaf on the left is."
   ]
  },
  {
   "cell_type": "markdown",
   "metadata": {},
   "source": [
    "\\begin{equation}\n",
    "similarity score = \\frac{(-10.5+6.5+7.5)^2}{3 + 0}\n",
    "\\end{equation}"
   ]
  },
  {
   "cell_type": "markdown",
   "metadata": {},
   "source": [
    "\\begin{equation}\n",
    "similarity score = \\frac{(-4+7.5)^2}{3 + 0}\n",
    "\\end{equation}"
   ]
  },
  {
   "cell_type": "markdown",
   "metadata": {},
   "source": [
    "\\begin{equation}\n",
    "similarity score = 4.08\n",
    "\\end{equation}"
   ]
  },
  {
   "cell_type": "markdown",
   "metadata": {},
   "source": [
    "$Similarity$ $Score$ for the leaf on the Right is."
   ]
  },
  {
   "cell_type": "markdown",
   "metadata": {},
   "source": [
    "\\begin{equation}\n",
    "similarity score = \\frac{(-7.5)^2}{1 + 0}\n",
    "\\end{equation}"
   ]
  },
  {
   "cell_type": "markdown",
   "metadata": {},
   "source": [
    "\\begin{equation}\n",
    "similarity score =56.25\n",
    "\\end{equation}"
   ]
  },
  {
   "cell_type": "markdown",
   "metadata": {},
   "source": [
    "and then we calculate the $Gain$..."
   ]
  },
  {
   "cell_type": "markdown",
   "metadata": {},
   "source": [
    "\\begin{equation}\n",
    "Gain = Left_{similarity} + Right_{similarity} - Root_{similarity}\n",
    "\\end{equation}"
   ]
  },
  {
   "cell_type": "markdown",
   "metadata": {},
   "source": [
    "\\begin{equation}\n",
    "Gain = 4.08 + 56.25 - 4\n",
    "\\end{equation}"
   ]
  },
  {
   "cell_type": "markdown",
   "metadata": {},
   "source": [
    "\\begin{equation}\n",
    "Gain = 56.33\n",
    "\\end{equation}"
   ]
  },
  {
   "cell_type": "markdown",
   "metadata": {},
   "source": [
    "The $Gain$ for $Dosage$ < 30  = 56.33"
   ]
  },
  {
   "cell_type": "markdown",
   "metadata": {},
   "source": [
    "Again , since the $Gain$ of $Dosage$ < 30 (Gain = 56.33) is less than the $Gain$ for  $Dosage$ < 15 (Gain = 120.33)is better splitting the observations."
   ]
  },
  {
   "cell_type": "markdown",
   "metadata": {},
   "source": [
    "And since we can't shift the threshold over any further to the right , we are done comparing different threshold."
   ]
  },
  {
   "cell_type": "markdown",
   "metadata": {},
   "source": [
    "and we will use the threshold that gave is the largest $Gain$ , $Dosage$ < 15 for the first branch in the tree."
   ]
  },
  {
   "cell_type": "code",
   "execution_count": 28,
   "metadata": {},
   "outputs": [],
   "source": [
    "# draw the final tree of the given comparition of this threshold......."
   ]
  },
  {
   "cell_type": "code",
   "execution_count": null,
   "metadata": {},
   "outputs": [],
   "source": []
  },
  {
   "cell_type": "markdown",
   "metadata": {},
   "source": [
    "Now since there is only one $Residual$ in the leaf on the left we can't split it any further."
   ]
  },
  {
   "cell_type": "markdown",
   "metadata": {},
   "source": [
    "however we can split the $3$ $residuals$ in the leaf on the $right$."
   ]
  },
  {
   "cell_type": "code",
   "execution_count": 29,
   "metadata": {},
   "outputs": [],
   "source": [
    "## plot the graph of the presentation ....."
   ]
  },
  {
   "cell_type": "code",
   "execution_count": null,
   "metadata": {},
   "outputs": [],
   "source": []
  },
  {
   "cell_type": "markdown",
   "metadata": {},
   "source": [
    "so we start with these  two observations..."
   ]
  },
  {
   "cell_type": "markdown",
   "metadata": {},
   "source": [
    "and their average $Dosage$ is $22.5$ which corresponds to this dotted green line."
   ]
  },
  {
   "cell_type": "markdown",
   "metadata": {},
   "source": [
    "so  the first threshold that we try is $Dosage$ < 22.5 "
   ]
  },
  {
   "cell_type": "code",
   "execution_count": 30,
   "metadata": {},
   "outputs": [],
   "source": [
    "# plot the tree to showing this...."
   ]
  },
  {
   "cell_type": "markdown",
   "metadata": {},
   "source": [
    "Now , just like before, we calculate the $Similarity$ $Scores$ for  the leaves. "
   ]
  },
  {
   "cell_type": "markdown",
   "metadata": {},
   "source": [
    "$Similarity$ $Score$ for the leaf of the left..."
   ]
  },
  {
   "cell_type": "markdown",
   "metadata": {},
   "source": [
    "\\begin{equation}\n",
    "Similarity score = \\frac{(6.5)^2}{1 + 0}\n",
    "\\end{equation}"
   ]
  },
  {
   "cell_type": "markdown",
   "metadata": {},
   "source": [
    "\\begin{equation}\n",
    "Similarity score = 42.25\n",
    "\\end{equation}"
   ]
  },
  {
   "cell_type": "markdown",
   "metadata": {},
   "source": [
    "$Similarity$ $Score$ for the leaf of the Right..."
   ]
  },
  {
   "cell_type": "markdown",
   "metadata": {},
   "source": [
    "\\begin{equation}\n",
    "Similarity score = \\frac{(7.5 - 7.5)^2}{2 + 0}\n",
    "\\end{equation}"
   ]
  },
  {
   "cell_type": "markdown",
   "metadata": {},
   "source": [
    "\\begin{equation}\n",
    "Similarity score = 0\n",
    "\\end{equation}"
   ]
  },
  {
   "cell_type": "markdown",
   "metadata": {},
   "source": [
    "$Note$ - we  calculated the   $Similarity$ $Score$ for this node when we figured out how to split the root.."
   ]
  },
  {
   "cell_type": "markdown",
   "metadata": {},
   "source": [
    " so now we calculate the $Gain$....."
   ]
  },
  {
   "cell_type": "markdown",
   "metadata": {},
   "source": [
    "\\begin{equation}\n",
    "Gain = Left_{similarity} + Right_{similarity} - Root_{similarity}\n",
    "\\end{equation}"
   ]
  },
  {
   "cell_type": "markdown",
   "metadata": {},
   "source": [
    "\\begin{equation}\n",
    "Gain = 42.25 + 0 - 14.08\n",
    "\\end{equation}"
   ]
  },
  {
   "cell_type": "markdown",
   "metadata": {},
   "source": [
    "\\begin{equation}\n",
    "Gain = 28.17\n",
    "\\end{equation}"
   ]
  },
  {
   "cell_type": "markdown",
   "metadata": {},
   "source": [
    "And we get $Gain$ = 28.17 for when the threshold is $Dosage$ < 22.5"
   ]
  },
  {
   "cell_type": "markdown",
   "metadata": {},
   "source": [
    "Now we shift the threshold over so that it is the average of the last two observations...."
   ]
  },
  {
   "cell_type": "code",
   "execution_count": 32,
   "metadata": {},
   "outputs": [],
   "source": [
    "# draw the tree on the basis of the new threshold....."
   ]
  },
  {
   "cell_type": "code",
   "execution_count": null,
   "metadata": {},
   "outputs": [],
   "source": []
  },
  {
   "cell_type": "markdown",
   "metadata": {},
   "source": [
    "calculate the $Similarity$ $Score$ for the leaves...."
   ]
  },
  {
   "cell_type": "markdown",
   "metadata": {},
   "source": [
    "$Similarity$  $Score$ for the leaf of the left.... "
   ]
  },
  {
   "cell_type": "markdown",
   "metadata": {},
   "source": [
    "\\begin{equation}\n",
    "Similarity Score  = \\frac{(6.5+7.5)^2}{2 + 0}\n",
    "\\end{equation}"
   ]
  },
  {
   "cell_type": "markdown",
   "metadata": {},
   "source": [
    "\\begin{equation}\n",
    "Similarity Score  = 98\n",
    "\\end{equation}"
   ]
  },
  {
   "cell_type": "markdown",
   "metadata": {},
   "source": [
    "$Similarity$ $Score$ for the leaf of the right..."
   ]
  },
  {
   "cell_type": "markdown",
   "metadata": {},
   "source": [
    "\\begin{equation}\n",
    "Similarity Score  = \\frac{(-7.5)^2}{1 + 0}\n",
    "\\end{equation}"
   ]
  },
  {
   "cell_type": "markdown",
   "metadata": {},
   "source": [
    "\\begin{equation}\n",
    "Similarity Score  = 56.25\n",
    "\\end{equation}"
   ]
  },
  {
   "cell_type": "markdown",
   "metadata": {},
   "source": [
    "and then calculate the $Gain$..."
   ]
  },
  {
   "cell_type": "markdown",
   "metadata": {},
   "source": [
    "\\begin{equation}\n",
    "Gain = Left_{similarity} + Right_{similarity} - Root_{similarity}\n",
    "\\end{equation}"
   ]
  },
  {
   "cell_type": "markdown",
   "metadata": {},
   "source": [
    "\\begin{equation}\n",
    "Gain = 98 + 56.25 - 14.08\n",
    "\\end{equation}"
   ]
  },
  {
   "cell_type": "markdown",
   "metadata": {},
   "source": [
    "\\begin{equation}\n",
    "Gain = 140.17\n",
    "\\end{equation}"
   ]
  },
  {
   "cell_type": "markdown",
   "metadata": {},
   "source": [
    "And we get $Gain$ = 140.17 which is much larger than $28.17$ when the threshold was $Dosage$ < $22.5$...."
   ]
  },
  {
   "cell_type": "markdown",
   "metadata": {},
   "source": [
    "so we will use $Dosage$ < $30$ as the threshold for this branch..."
   ]
  },
  {
   "cell_type": "code",
   "execution_count": 1,
   "metadata": {},
   "outputs": [],
   "source": [
    " # draw this final tree on the basis of this threshold..."
   ]
  },
  {
   "cell_type": "code",
   "execution_count": null,
   "metadata": {},
   "outputs": [],
   "source": []
  },
  {
   "cell_type": "markdown",
   "metadata": {},
   "source": [
    "$Note$- To Keep this example from getting out of hand I have limited the tree depth to two levels..."
   ]
  },
  {
   "cell_type": "markdown",
   "metadata": {},
   "source": [
    "and this means we will not split this leaf any further and we are done building this tree....."
   ]
  },
  {
   "cell_type": "markdown",
   "metadata": {},
   "source": [
    "However the default is to allow up to $6$ levels."
   ]
  },
  {
   "cell_type": "markdown",
   "metadata": {},
   "source": [
    "# let's Now we need to talk about how to Prune this  tree...."
   ]
  },
  {
   "cell_type": "markdown",
   "metadata": {},
   "source": [
    "We prune an $XGBoost$ $Tree$ based on it's $Gain$ $Values$"
   ]
  },
  {
   "cell_type": "markdown",
   "metadata": {},
   "source": [
    "we start by picking a number , for example $130$... "
   ]
  },
  {
   "cell_type": "markdown",
   "metadata": {},
   "source": [
    "$XGBoost$ calls this number ${\\gamma}$ gamma."
   ]
  },
  {
   "cell_type": "markdown",
   "metadata": {},
   "source": [
    "then we calculate the difference between the $Gain$ associated with the lowest branch in the tree. and value for ${\\gamma}$(gamma)."
   ]
  },
  {
   "cell_type": "markdown",
   "metadata": {},
   "source": [
    "\\begin{equation}\n",
    "Gain - {\\gamma}\n",
    "\\end{equation}"
   ]
  },
  {
   "cell_type": "markdown",
   "metadata": {},
   "source": [
    "if the difference between $Gain$ and ${\\gamma}$(gamma) is $negative$ we will remove the branch."
   ]
  },
  {
   "cell_type": "markdown",
   "metadata": {},
   "source": [
    "and the difference between $Gain$ and ${\\gamma}$ (gamma) is $positive$ we will not remove the branch."
   ]
  },
  {
   "cell_type": "code",
   "execution_count": 2,
   "metadata": {},
   "outputs": [],
   "source": [
    "# final xgboost tree .."
   ]
  },
  {
   "cell_type": "code",
   "execution_count": null,
   "metadata": {},
   "outputs": [],
   "source": []
  },
  {
   "cell_type": "markdown",
   "metadata": {},
   "source": [
    "in this case when we plug in the $Gain$ equal to $140.17$ and the value for $\\gamma$ (gamma) , $130$."
   ]
  },
  {
   "cell_type": "markdown",
   "metadata": {},
   "source": [
    "\\begin{equation}\n",
    "Gain - {\\gamma}\n",
    "\\end{equation}"
   ]
  },
  {
   "cell_type": "markdown",
   "metadata": {},
   "source": [
    "\\begin{equation}\n",
    "140.17 - 130 = postive\n",
    "\\end{equation}"
   ]
  },
  {
   "cell_type": "markdown",
   "metadata": {},
   "source": [
    "we get a postive number so we will not remove this branch and we done with $Pruning$."
   ]
  },
  {
   "cell_type": "markdown",
   "metadata": {},
   "source": [
    "$Note$- the $Gain$ for the root , $120.33$ is less than $130$ , the value of ${\\gamma}$ so the difference will be $negative$."
   ]
  },
  {
   "cell_type": "markdown",
   "metadata": {},
   "source": [
    "However because we did not remove the first branch we will not remove the root."
   ]
  },
  {
   "cell_type": "markdown",
   "metadata": {},
   "source": [
    "in contrast if we set ${\\gamma}$  = $150$ then we would remove this branch because.."
   ]
  },
  {
   "cell_type": "markdown",
   "metadata": {},
   "source": [
    "\\begin{equation}\n",
    "Gain - {\\gamma}\n",
    "\\end{equation}"
   ]
  },
  {
   "cell_type": "markdown",
   "metadata": {},
   "source": [
    "\\begin{equation}\n",
    "140.17 - 150 =  negative\n",
    "\\end{equation}"
   ]
  },
  {
   "cell_type": "markdown",
   "metadata": {},
   "source": [
    "so let's remove this branch."
   ]
  },
  {
   "cell_type": "markdown",
   "metadata": {},
   "source": [
    "Now we will subtract ${\\gamma}$(gamma) from the $Gain$ for the root."
   ]
  },
  {
   "cell_type": "markdown",
   "metadata": {},
   "source": [
    "\\begin{equation}\n",
    "120.33 - 150 = negative\n",
    "\\end{equation}"
   ]
  },
  {
   "cell_type": "markdown",
   "metadata": {},
   "source": [
    "we will remove the root."
   ]
  },
  {
   "cell_type": "markdown",
   "metadata": {},
   "source": [
    "and all we would be left with is the original prediction which is pretty extreme pruning..."
   ]
  },
  {
   "cell_type": "markdown",
   "metadata": {},
   "source": [
    "So while this was not the most unanced example of how an $XGBoost$ $Tree$ is $pruned$ "
   ]
  },
  {
   "cell_type": "code",
   "execution_count": 3,
   "metadata": {},
   "outputs": [],
   "source": [
    "## draw the original data..."
   ]
  },
  {
   "cell_type": "code",
   "execution_count": null,
   "metadata": {},
   "outputs": [],
   "source": []
  },
  {
   "cell_type": "markdown",
   "metadata": {},
   "source": [
    "Now let's go back to the original $Residuals$ and build a tree just like a before."
   ]
  },
  {
   "cell_type": "markdown",
   "metadata": {},
   "source": [
    "only this time , when we calculate $Similarity$  $Score$ we will set ${\\lambda}$(lambda) = $1$."
   ]
  },
  {
   "cell_type": "markdown",
   "metadata": {},
   "source": [
    "Remember ${\\lambda}$ (lambda) is a $Regularization$ $Parameter$ which means that it is intended to reduce the prediction's sensitivity to individual observations."
   ]
  },
  {
   "cell_type": "code",
   "execution_count": null,
   "metadata": {},
   "outputs": [],
   "source": []
  }
 ],
 "metadata": {
  "kernelspec": {
   "display_name": "Python 3",
   "language": "python",
   "name": "python3"
  },
  "language_info": {
   "codemirror_mode": {
    "name": "ipython",
    "version": 3
   },
   "file_extension": ".py",
   "mimetype": "text/x-python",
   "name": "python",
   "nbconvert_exporter": "python",
   "pygments_lexer": "ipython3",
   "version": "3.7.3"
  }
 },
 "nbformat": 4,
 "nbformat_minor": 2
}
